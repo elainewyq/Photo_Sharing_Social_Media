{
 "cells": [
  {
   "cell_type": "markdown",
   "metadata": {},
   "source": [
    "#### Tweets Sentiment Test\n",
    "\n",
    "Below I used the sentiment analysis results to perform hypothesis tests on the positive tweets ratio.\n",
    "\n",
    "The results are from the main analysis notebook. See 'Three Platform Analysis.ipynp'"
   ]
  },
  {
   "cell_type": "code",
   "execution_count": 1,
   "metadata": {},
   "outputs": [],
   "source": [
    "import pandas as pd\n",
    "import seaborn as sb\n",
    "import scipy.stats as stats\n",
    "import numpy as np\n",
    "import matplotlib.pyplot as plt\n",
    "%matplotlib inline\n",
    "\n",
    "plt.style.use('ggplot')"
   ]
  },
  {
   "cell_type": "code",
   "execution_count": 24,
   "metadata": {},
   "outputs": [],
   "source": [
    "pinterest_sentiment_analysis = pd.read_csv('pins_sentiment_analysis.txt', index_col = None)\n",
    "instagram_sentiment_analysis = pd.read_csv('insta_sentiment_analysis.txt', index_col = None)\n",
    "snapchat_sentiment_analysis = pd.read_csv('snap_sentiment_analysis.txt', index_col = None)"
   ]
  },
  {
   "cell_type": "code",
   "execution_count": 30,
   "metadata": {},
   "outputs": [
    {
     "data": {
      "text/plain": [
       "(3125, 155048, 7564)"
      ]
     },
     "execution_count": 30,
     "metadata": {},
     "output_type": "execute_result"
    }
   ],
   "source": [
    "len(pinterest_sentiment_analysis), len(instagram_sentiment_analysis), len(snapchat_sentiment_analysis)"
   ]
  },
  {
   "cell_type": "code",
   "execution_count": 25,
   "metadata": {},
   "outputs": [
    {
     "data": {
      "text/html": [
       "<div>\n",
       "<style scoped>\n",
       "    .dataframe tbody tr th:only-of-type {\n",
       "        vertical-align: middle;\n",
       "    }\n",
       "\n",
       "    .dataframe tbody tr th {\n",
       "        vertical-align: top;\n",
       "    }\n",
       "\n",
       "    .dataframe thead th {\n",
       "        text-align: right;\n",
       "    }\n",
       "</style>\n",
       "<table border=\"1\" class=\"dataframe\">\n",
       "  <thead>\n",
       "    <tr style=\"text-align: right;\">\n",
       "      <th></th>\n",
       "      <th>Unnamed: 0</th>\n",
       "      <th>negative</th>\n",
       "      <th>neutral</th>\n",
       "      <th>positive</th>\n",
       "      <th>compound</th>\n",
       "    </tr>\n",
       "  </thead>\n",
       "  <tbody>\n",
       "    <tr>\n",
       "      <th>count</th>\n",
       "      <td>3125.000000</td>\n",
       "      <td>3125.000000</td>\n",
       "      <td>3125.000000</td>\n",
       "      <td>3125.000000</td>\n",
       "      <td>3125.000000</td>\n",
       "    </tr>\n",
       "    <tr>\n",
       "      <th>mean</th>\n",
       "      <td>1562.000000</td>\n",
       "      <td>0.033305</td>\n",
       "      <td>0.821725</td>\n",
       "      <td>0.144650</td>\n",
       "      <td>0.226446</td>\n",
       "    </tr>\n",
       "    <tr>\n",
       "      <th>std</th>\n",
       "      <td>902.254122</td>\n",
       "      <td>0.089705</td>\n",
       "      <td>0.186654</td>\n",
       "      <td>0.170836</td>\n",
       "      <td>0.370286</td>\n",
       "    </tr>\n",
       "    <tr>\n",
       "      <th>min</th>\n",
       "      <td>0.000000</td>\n",
       "      <td>0.000000</td>\n",
       "      <td>0.000000</td>\n",
       "      <td>0.000000</td>\n",
       "      <td>-0.959200</td>\n",
       "    </tr>\n",
       "    <tr>\n",
       "      <th>25%</th>\n",
       "      <td>781.000000</td>\n",
       "      <td>0.000000</td>\n",
       "      <td>0.695000</td>\n",
       "      <td>0.000000</td>\n",
       "      <td>0.000000</td>\n",
       "    </tr>\n",
       "    <tr>\n",
       "      <th>50%</th>\n",
       "      <td>1562.000000</td>\n",
       "      <td>0.000000</td>\n",
       "      <td>0.847000</td>\n",
       "      <td>0.104000</td>\n",
       "      <td>0.000000</td>\n",
       "    </tr>\n",
       "    <tr>\n",
       "      <th>75%</th>\n",
       "      <td>2343.000000</td>\n",
       "      <td>0.000000</td>\n",
       "      <td>1.000000</td>\n",
       "      <td>0.256000</td>\n",
       "      <td>0.536700</td>\n",
       "    </tr>\n",
       "    <tr>\n",
       "      <th>max</th>\n",
       "      <td>3124.000000</td>\n",
       "      <td>0.784000</td>\n",
       "      <td>1.000000</td>\n",
       "      <td>1.000000</td>\n",
       "      <td>0.991400</td>\n",
       "    </tr>\n",
       "  </tbody>\n",
       "</table>\n",
       "</div>"
      ],
      "text/plain": [
       "        Unnamed: 0     negative      neutral     positive     compound\n",
       "count  3125.000000  3125.000000  3125.000000  3125.000000  3125.000000\n",
       "mean   1562.000000     0.033305     0.821725     0.144650     0.226446\n",
       "std     902.254122     0.089705     0.186654     0.170836     0.370286\n",
       "min       0.000000     0.000000     0.000000     0.000000    -0.959200\n",
       "25%     781.000000     0.000000     0.695000     0.000000     0.000000\n",
       "50%    1562.000000     0.000000     0.847000     0.104000     0.000000\n",
       "75%    2343.000000     0.000000     1.000000     0.256000     0.536700\n",
       "max    3124.000000     0.784000     1.000000     1.000000     0.991400"
      ]
     },
     "execution_count": 25,
     "metadata": {},
     "output_type": "execute_result"
    }
   ],
   "source": [
    "pinterest_sentiment_analysis.describe()"
   ]
  },
  {
   "cell_type": "markdown",
   "metadata": {},
   "source": [
    "** Positive ratio for each platform is determined by the amount of tweets with positive value greater than 0.5 divided by the total amount of tweets"
   ]
  },
  {
   "cell_type": "code",
   "execution_count": 8,
   "metadata": {},
   "outputs": [
    {
     "data": {
      "text/html": [
       "<div>\n",
       "<style scoped>\n",
       "    .dataframe tbody tr th:only-of-type {\n",
       "        vertical-align: middle;\n",
       "    }\n",
       "\n",
       "    .dataframe tbody tr th {\n",
       "        vertical-align: top;\n",
       "    }\n",
       "\n",
       "    .dataframe thead th {\n",
       "        text-align: right;\n",
       "    }\n",
       "</style>\n",
       "<table border=\"1\" class=\"dataframe\">\n",
       "  <thead>\n",
       "    <tr style=\"text-align: right;\">\n",
       "      <th></th>\n",
       "      <th>Unnamed: 0</th>\n",
       "      <th>text</th>\n",
       "      <th>negative</th>\n",
       "      <th>neutral</th>\n",
       "      <th>positive</th>\n",
       "      <th>compound</th>\n",
       "    </tr>\n",
       "  </thead>\n",
       "  <tbody>\n",
       "    <tr>\n",
       "      <th>13</th>\n",
       "      <td>13</td>\n",
       "      <td>I just love a great list. lol. Looking at plan...</td>\n",
       "      <td>0.0</td>\n",
       "      <td>0.420</td>\n",
       "      <td>0.580</td>\n",
       "      <td>0.9605</td>\n",
       "    </tr>\n",
       "    <tr>\n",
       "      <th>14</th>\n",
       "      <td>14</td>\n",
       "      <td>easy and quick</td>\n",
       "      <td>0.0</td>\n",
       "      <td>0.408</td>\n",
       "      <td>0.592</td>\n",
       "      <td>0.4404</td>\n",
       "    </tr>\n",
       "    <tr>\n",
       "      <th>18</th>\n",
       "      <td>18</td>\n",
       "      <td>Verizon Wireless Gift Card Giveaway Work Money...</td>\n",
       "      <td>0.0</td>\n",
       "      <td>0.492</td>\n",
       "      <td>0.508</td>\n",
       "      <td>0.7351</td>\n",
       "    </tr>\n",
       "    <tr>\n",
       "      <th>78</th>\n",
       "      <td>78</td>\n",
       "      <td>I love putting a fun spin on the title. How do...</td>\n",
       "      <td>0.0</td>\n",
       "      <td>0.481</td>\n",
       "      <td>0.519</td>\n",
       "      <td>0.9186</td>\n",
       "    </tr>\n",
       "    <tr>\n",
       "      <th>123</th>\n",
       "      <td>123</td>\n",
       "      <td>Great Haircut at great price via</td>\n",
       "      <td>0.0</td>\n",
       "      <td>0.328</td>\n",
       "      <td>0.672</td>\n",
       "      <td>0.8481</td>\n",
       "    </tr>\n",
       "  </tbody>\n",
       "</table>\n",
       "</div>"
      ],
      "text/plain": [
       "     Unnamed: 0                                               text  negative  \\\n",
       "13           13  I just love a great list. lol. Looking at plan...       0.0   \n",
       "14           14                                     easy and quick       0.0   \n",
       "18           18  Verizon Wireless Gift Card Giveaway Work Money...       0.0   \n",
       "78           78  I love putting a fun spin on the title. How do...       0.0   \n",
       "123         123                   Great Haircut at great price via       0.0   \n",
       "\n",
       "      neutral  positive  compound  \n",
       "13      0.420     0.580    0.9605  \n",
       "14      0.408     0.592    0.4404  \n",
       "18      0.492     0.508    0.7351  \n",
       "78      0.481     0.519    0.9186  \n",
       "123     0.328     0.672    0.8481  "
      ]
     },
     "execution_count": 8,
     "metadata": {},
     "output_type": "execute_result"
    }
   ],
   "source": [
    "pins_pos = pinterest_sentiment_analysis[pinterest_sentiment_analysis['positive'] > 0.5]\n",
    "pins_pos.head()"
   ]
  },
  {
   "cell_type": "code",
   "execution_count": 9,
   "metadata": {},
   "outputs": [
    {
     "data": {
      "text/html": [
       "<div>\n",
       "<style scoped>\n",
       "    .dataframe tbody tr th:only-of-type {\n",
       "        vertical-align: middle;\n",
       "    }\n",
       "\n",
       "    .dataframe tbody tr th {\n",
       "        vertical-align: top;\n",
       "    }\n",
       "\n",
       "    .dataframe thead th {\n",
       "        text-align: right;\n",
       "    }\n",
       "</style>\n",
       "<table border=\"1\" class=\"dataframe\">\n",
       "  <thead>\n",
       "    <tr style=\"text-align: right;\">\n",
       "      <th></th>\n",
       "      <th>Unnamed: 0</th>\n",
       "      <th>text</th>\n",
       "      <th>negative</th>\n",
       "      <th>neutral</th>\n",
       "      <th>positive</th>\n",
       "      <th>compound</th>\n",
       "    </tr>\n",
       "  </thead>\n",
       "  <tbody>\n",
       "    <tr>\n",
       "      <th>10</th>\n",
       "      <td>10</td>\n",
       "      <td>Never Forget</td>\n",
       "      <td>0.0</td>\n",
       "      <td>0.375</td>\n",
       "      <td>0.625</td>\n",
       "      <td>0.1695</td>\n",
       "    </tr>\n",
       "    <tr>\n",
       "      <th>21</th>\n",
       "      <td>21</td>\n",
       "      <td>On Instagram lol</td>\n",
       "      <td>0.0</td>\n",
       "      <td>0.417</td>\n",
       "      <td>0.583</td>\n",
       "      <td>0.4215</td>\n",
       "    </tr>\n",
       "    <tr>\n",
       "      <th>68</th>\n",
       "      <td>68</td>\n",
       "      <td>Doing what I like</td>\n",
       "      <td>0.0</td>\n",
       "      <td>0.444</td>\n",
       "      <td>0.556</td>\n",
       "      <td>0.3612</td>\n",
       "    </tr>\n",
       "    <tr>\n",
       "      <th>97</th>\n",
       "      <td>97</td>\n",
       "      <td>#ijs @ United States</td>\n",
       "      <td>0.0</td>\n",
       "      <td>0.417</td>\n",
       "      <td>0.583</td>\n",
       "      <td>0.4215</td>\n",
       "    </tr>\n",
       "    <tr>\n",
       "      <th>122</th>\n",
       "      <td>122</td>\n",
       "      <td>#Repost nathanyel7 Keep your spirit strong kee...</td>\n",
       "      <td>0.0</td>\n",
       "      <td>0.452</td>\n",
       "      <td>0.548</td>\n",
       "      <td>0.8271</td>\n",
       "    </tr>\n",
       "  </tbody>\n",
       "</table>\n",
       "</div>"
      ],
      "text/plain": [
       "     Unnamed: 0                                               text  negative  \\\n",
       "10           10                                       Never Forget       0.0   \n",
       "21           21                                   On Instagram lol       0.0   \n",
       "68           68                                  Doing what I like       0.0   \n",
       "97           97                               #ijs @ United States       0.0   \n",
       "122         122  #Repost nathanyel7 Keep your spirit strong kee...       0.0   \n",
       "\n",
       "      neutral  positive  compound  \n",
       "10      0.375     0.625    0.1695  \n",
       "21      0.417     0.583    0.4215  \n",
       "68      0.444     0.556    0.3612  \n",
       "97      0.417     0.583    0.4215  \n",
       "122     0.452     0.548    0.8271  "
      ]
     },
     "execution_count": 9,
     "metadata": {},
     "output_type": "execute_result"
    }
   ],
   "source": [
    "insta_pos = instagram_sentiment_analysis[instagram_sentiment_analysis['positive'] > 0.5]\n",
    "insta_pos.head()"
   ]
  },
  {
   "cell_type": "code",
   "execution_count": 10,
   "metadata": {},
   "outputs": [
    {
     "data": {
      "text/html": [
       "<div>\n",
       "<style scoped>\n",
       "    .dataframe tbody tr th:only-of-type {\n",
       "        vertical-align: middle;\n",
       "    }\n",
       "\n",
       "    .dataframe tbody tr th {\n",
       "        vertical-align: top;\n",
       "    }\n",
       "\n",
       "    .dataframe thead th {\n",
       "        text-align: right;\n",
       "    }\n",
       "</style>\n",
       "<table border=\"1\" class=\"dataframe\">\n",
       "  <thead>\n",
       "    <tr style=\"text-align: right;\">\n",
       "      <th></th>\n",
       "      <th>Unnamed: 0</th>\n",
       "      <th>text</th>\n",
       "      <th>negative</th>\n",
       "      <th>neutral</th>\n",
       "      <th>positive</th>\n",
       "      <th>compound</th>\n",
       "    </tr>\n",
       "  </thead>\n",
       "  <tbody>\n",
       "    <tr>\n",
       "      <th>5</th>\n",
       "      <td>5</td>\n",
       "      <td>I got Snapchat now yay!!!</td>\n",
       "      <td>0.0</td>\n",
       "      <td>0.412</td>\n",
       "      <td>0.588</td>\n",
       "      <td>0.6458</td>\n",
       "    </tr>\n",
       "    <tr>\n",
       "      <th>56</th>\n",
       "      <td>56</td>\n",
       "      <td>Thank you bby</td>\n",
       "      <td>0.0</td>\n",
       "      <td>0.444</td>\n",
       "      <td>0.556</td>\n",
       "      <td>0.3612</td>\n",
       "    </tr>\n",
       "    <tr>\n",
       "      <th>96</th>\n",
       "      <td>96</td>\n",
       "      <td>I wonder what special sound snapchat makes whe...</td>\n",
       "      <td>0.0</td>\n",
       "      <td>0.442</td>\n",
       "      <td>0.558</td>\n",
       "      <td>0.8779</td>\n",
       "    </tr>\n",
       "    <tr>\n",
       "      <th>107</th>\n",
       "      <td>107</td>\n",
       "      <td>Nude snapchat! Easy register.</td>\n",
       "      <td>0.0</td>\n",
       "      <td>0.484</td>\n",
       "      <td>0.516</td>\n",
       "      <td>0.4926</td>\n",
       "    </tr>\n",
       "    <tr>\n",
       "      <th>130</th>\n",
       "      <td>130</td>\n",
       "      <td>MILESTONE ALERT The absolutely stunning and am...</td>\n",
       "      <td>0.0</td>\n",
       "      <td>0.440</td>\n",
       "      <td>0.560</td>\n",
       "      <td>0.9324</td>\n",
       "    </tr>\n",
       "  </tbody>\n",
       "</table>\n",
       "</div>"
      ],
      "text/plain": [
       "     Unnamed: 0                                               text  negative  \\\n",
       "5             5                          I got Snapchat now yay!!!       0.0   \n",
       "56           56                                      Thank you bby       0.0   \n",
       "96           96  I wonder what special sound snapchat makes whe...       0.0   \n",
       "107         107                      Nude snapchat! Easy register.       0.0   \n",
       "130         130  MILESTONE ALERT The absolutely stunning and am...       0.0   \n",
       "\n",
       "      neutral  positive  compound  \n",
       "5       0.412     0.588    0.6458  \n",
       "56      0.444     0.556    0.3612  \n",
       "96      0.442     0.558    0.8779  \n",
       "107     0.484     0.516    0.4926  \n",
       "130     0.440     0.560    0.9324  "
      ]
     },
     "execution_count": 10,
     "metadata": {},
     "output_type": "execute_result"
    }
   ],
   "source": [
    "snap_pos = snapchat_sentiment_analysis[snapchat_sentiment_analysis['positive'] > 0.5]\n",
    "snap_pos.head()"
   ]
  },
  {
   "cell_type": "code",
   "execution_count": 27,
   "metadata": {},
   "outputs": [
    {
     "data": {
      "text/plain": [
       "(0.03296, 0.034260358082658274, 0.023929138022210472)"
      ]
     },
     "execution_count": 27,
     "metadata": {},
     "output_type": "execute_result"
    }
   ],
   "source": [
    "pins_pos_ratio = len(pins_pos)/len(pinterest_sentiment_analysis)\n",
    "insta_pos_ratio = len(insta_pos)/len(instagram_sentiment_analysis)\n",
    "snap_pos_ratio = len(snap_pos)/len(snapchat_sentiment_analysis)\n",
    "\n",
    "pins_pos_ratio, insta_pos_ratio, snap_pos_ratio"
   ]
  },
  {
   "cell_type": "code",
   "execution_count": 16,
   "metadata": {},
   "outputs": [
    {
     "data": {
      "text/html": [
       "<div>\n",
       "<style scoped>\n",
       "    .dataframe tbody tr th:only-of-type {\n",
       "        vertical-align: middle;\n",
       "    }\n",
       "\n",
       "    .dataframe tbody tr th {\n",
       "        vertical-align: top;\n",
       "    }\n",
       "\n",
       "    .dataframe thead th {\n",
       "        text-align: right;\n",
       "    }\n",
       "</style>\n",
       "<table border=\"1\" class=\"dataframe\">\n",
       "  <thead>\n",
       "    <tr style=\"text-align: right;\">\n",
       "      <th></th>\n",
       "      <th>Unnamed: 0</th>\n",
       "      <th>text</th>\n",
       "      <th>negative</th>\n",
       "      <th>neutral</th>\n",
       "      <th>positive</th>\n",
       "      <th>compound</th>\n",
       "    </tr>\n",
       "  </thead>\n",
       "  <tbody>\n",
       "    <tr>\n",
       "      <th>295</th>\n",
       "      <td>295</td>\n",
       "      <td>I hate pinterest so much.</td>\n",
       "      <td>0.552</td>\n",
       "      <td>0.448</td>\n",
       "      <td>0.0</td>\n",
       "      <td>-0.5719</td>\n",
       "    </tr>\n",
       "    <tr>\n",
       "      <th>380</th>\n",
       "      <td>380</td>\n",
       "      <td>Put my dumb ass on pinterest</td>\n",
       "      <td>0.630</td>\n",
       "      <td>0.370</td>\n",
       "      <td>0.0</td>\n",
       "      <td>-0.7783</td>\n",
       "    </tr>\n",
       "    <tr>\n",
       "      <th>668</th>\n",
       "      <td>668</td>\n",
       "      <td>is pinterest broken</td>\n",
       "      <td>0.608</td>\n",
       "      <td>0.392</td>\n",
       "      <td>0.0</td>\n",
       "      <td>-0.4767</td>\n",
       "    </tr>\n",
       "    <tr>\n",
       "      <th>691</th>\n",
       "      <td>691</td>\n",
       "      <td>No lol...</td>\n",
       "      <td>0.688</td>\n",
       "      <td>0.312</td>\n",
       "      <td>0.0</td>\n",
       "      <td>-0.2960</td>\n",
       "    </tr>\n",
       "    <tr>\n",
       "      <th>826</th>\n",
       "      <td>826</td>\n",
       "      <td>Worst thing on Pinterest then !</td>\n",
       "      <td>0.523</td>\n",
       "      <td>0.477</td>\n",
       "      <td>0.0</td>\n",
       "      <td>-0.6588</td>\n",
       "    </tr>\n",
       "  </tbody>\n",
       "</table>\n",
       "</div>"
      ],
      "text/plain": [
       "     Unnamed: 0                             text  negative   neutral  \\\n",
       "295         295        I hate pinterest so much.     0.552     0.448   \n",
       "380         380     Put my dumb ass on pinterest     0.630     0.370   \n",
       "668         668              is pinterest broken     0.608     0.392   \n",
       "691         691                        No lol...     0.688     0.312   \n",
       "826         826  Worst thing on Pinterest then !     0.523     0.477   \n",
       "\n",
       "     positive  compound  \n",
       "295       0.0   -0.5719  \n",
       "380       0.0   -0.7783  \n",
       "668       0.0   -0.4767  \n",
       "691       0.0   -0.2960  \n",
       "826       0.0   -0.6588  "
      ]
     },
     "execution_count": 16,
     "metadata": {},
     "output_type": "execute_result"
    }
   ],
   "source": [
    "pins_neg = pinterest_sentiment_analysis[pinterest_sentiment_analysis['negative'] > 0.5]\n",
    "pins_neg.head()"
   ]
  },
  {
   "cell_type": "markdown",
   "metadata": {},
   "source": [
    "** Negative ratio for each platform is determined by the amount of tweets with negative value greater than 0.5 divided by the total amount of tweets"
   ]
  },
  {
   "cell_type": "code",
   "execution_count": 17,
   "metadata": {},
   "outputs": [
    {
     "data": {
      "text/html": [
       "<div>\n",
       "<style scoped>\n",
       "    .dataframe tbody tr th:only-of-type {\n",
       "        vertical-align: middle;\n",
       "    }\n",
       "\n",
       "    .dataframe tbody tr th {\n",
       "        vertical-align: top;\n",
       "    }\n",
       "\n",
       "    .dataframe thead th {\n",
       "        text-align: right;\n",
       "    }\n",
       "</style>\n",
       "<table border=\"1\" class=\"dataframe\">\n",
       "  <thead>\n",
       "    <tr style=\"text-align: right;\">\n",
       "      <th></th>\n",
       "      <th>Unnamed: 0</th>\n",
       "      <th>text</th>\n",
       "      <th>negative</th>\n",
       "      <th>neutral</th>\n",
       "      <th>positive</th>\n",
       "      <th>compound</th>\n",
       "    </tr>\n",
       "  </thead>\n",
       "  <tbody>\n",
       "    <tr>\n",
       "      <th>79</th>\n",
       "      <td>79</td>\n",
       "      <td>THE MOST HORRIBLE &amp;amp; SAD DAY IN HISTORY!!! ...</td>\n",
       "      <td>0.512</td>\n",
       "      <td>0.420</td>\n",
       "      <td>0.067</td>\n",
       "      <td>-0.9577</td>\n",
       "    </tr>\n",
       "    <tr>\n",
       "      <th>90</th>\n",
       "      <td>90</td>\n",
       "      <td>Sin frase...</td>\n",
       "      <td>0.783</td>\n",
       "      <td>0.217</td>\n",
       "      <td>0.000</td>\n",
       "      <td>-0.5574</td>\n",
       "    </tr>\n",
       "    <tr>\n",
       "      <th>217</th>\n",
       "      <td>217</td>\n",
       "      <td>The fuck does this bitch want - Maggie, 2019</td>\n",
       "      <td>0.537</td>\n",
       "      <td>0.368</td>\n",
       "      <td>0.096</td>\n",
       "      <td>-0.7906</td>\n",
       "    </tr>\n",
       "    <tr>\n",
       "      <th>389</th>\n",
       "      <td>389</td>\n",
       "      <td>I shouldnt be laughing this hard</td>\n",
       "      <td>0.579</td>\n",
       "      <td>0.421</td>\n",
       "      <td>0.000</td>\n",
       "      <td>-0.4815</td>\n",
       "    </tr>\n",
       "    <tr>\n",
       "      <th>599</th>\n",
       "      <td>599</td>\n",
       "      <td>Me home bored</td>\n",
       "      <td>0.512</td>\n",
       "      <td>0.488</td>\n",
       "      <td>0.000</td>\n",
       "      <td>-0.2732</td>\n",
       "    </tr>\n",
       "  </tbody>\n",
       "</table>\n",
       "</div>"
      ],
      "text/plain": [
       "     Unnamed: 0                                               text  negative  \\\n",
       "79           79  THE MOST HORRIBLE &amp; SAD DAY IN HISTORY!!! ...     0.512   \n",
       "90           90                                       Sin frase...     0.783   \n",
       "217         217       The fuck does this bitch want - Maggie, 2019     0.537   \n",
       "389         389                   I shouldnt be laughing this hard     0.579   \n",
       "599         599                                      Me home bored     0.512   \n",
       "\n",
       "      neutral  positive  compound  \n",
       "79      0.420     0.067   -0.9577  \n",
       "90      0.217     0.000   -0.5574  \n",
       "217     0.368     0.096   -0.7906  \n",
       "389     0.421     0.000   -0.4815  \n",
       "599     0.488     0.000   -0.2732  "
      ]
     },
     "execution_count": 17,
     "metadata": {},
     "output_type": "execute_result"
    }
   ],
   "source": [
    "insta_neg = instagram_sentiment_analysis[instagram_sentiment_analysis['negative'] > 0.5]\n",
    "insta_neg.head()"
   ]
  },
  {
   "cell_type": "code",
   "execution_count": 18,
   "metadata": {},
   "outputs": [
    {
     "data": {
      "text/html": [
       "<div>\n",
       "<style scoped>\n",
       "    .dataframe tbody tr th:only-of-type {\n",
       "        vertical-align: middle;\n",
       "    }\n",
       "\n",
       "    .dataframe tbody tr th {\n",
       "        vertical-align: top;\n",
       "    }\n",
       "\n",
       "    .dataframe thead th {\n",
       "        text-align: right;\n",
       "    }\n",
       "</style>\n",
       "<table border=\"1\" class=\"dataframe\">\n",
       "  <thead>\n",
       "    <tr style=\"text-align: right;\">\n",
       "      <th></th>\n",
       "      <th>Unnamed: 0</th>\n",
       "      <th>text</th>\n",
       "      <th>negative</th>\n",
       "      <th>neutral</th>\n",
       "      <th>positive</th>\n",
       "      <th>compound</th>\n",
       "    </tr>\n",
       "  </thead>\n",
       "  <tbody>\n",
       "    <tr>\n",
       "      <th>54</th>\n",
       "      <td>54</td>\n",
       "      <td>snapchat sucks</td>\n",
       "      <td>0.714</td>\n",
       "      <td>0.286</td>\n",
       "      <td>0.0</td>\n",
       "      <td>-0.3612</td>\n",
       "    </tr>\n",
       "    <tr>\n",
       "      <th>189</th>\n",
       "      <td>189</td>\n",
       "      <td>Currently in shame</td>\n",
       "      <td>0.608</td>\n",
       "      <td>0.392</td>\n",
       "      <td>0.0</td>\n",
       "      <td>-0.4767</td>\n",
       "    </tr>\n",
       "    <tr>\n",
       "      <th>191</th>\n",
       "      <td>191</td>\n",
       "      <td>No one: Snapchat:</td>\n",
       "      <td>0.524</td>\n",
       "      <td>0.476</td>\n",
       "      <td>0.0</td>\n",
       "      <td>-0.2960</td>\n",
       "    </tr>\n",
       "    <tr>\n",
       "      <th>351</th>\n",
       "      <td>351</td>\n",
       "      <td>Can Snapchat stop bringing up these dumb ass m...</td>\n",
       "      <td>0.600</td>\n",
       "      <td>0.400</td>\n",
       "      <td>0.0</td>\n",
       "      <td>-0.8402</td>\n",
       "    </tr>\n",
       "    <tr>\n",
       "      <th>510</th>\n",
       "      <td>510</td>\n",
       "      <td>Bc theyre the absolute worst</td>\n",
       "      <td>0.506</td>\n",
       "      <td>0.494</td>\n",
       "      <td>0.0</td>\n",
       "      <td>-0.6249</td>\n",
       "    </tr>\n",
       "  </tbody>\n",
       "</table>\n",
       "</div>"
      ],
      "text/plain": [
       "     Unnamed: 0                                               text  negative  \\\n",
       "54           54                                     snapchat sucks     0.714   \n",
       "189         189                                 Currently in shame     0.608   \n",
       "191         191                                  No one: Snapchat:     0.524   \n",
       "351         351  Can Snapchat stop bringing up these dumb ass m...     0.600   \n",
       "510         510                       Bc theyre the absolute worst     0.506   \n",
       "\n",
       "      neutral  positive  compound  \n",
       "54      0.286       0.0   -0.3612  \n",
       "189     0.392       0.0   -0.4767  \n",
       "191     0.476       0.0   -0.2960  \n",
       "351     0.400       0.0   -0.8402  \n",
       "510     0.494       0.0   -0.6249  "
      ]
     },
     "execution_count": 18,
     "metadata": {},
     "output_type": "execute_result"
    }
   ],
   "source": [
    "snap_neg = snapchat_sentiment_analysis[snapchat_sentiment_analysis['negative'] > 0.5]\n",
    "snap_neg.head()"
   ]
  },
  {
   "cell_type": "code",
   "execution_count": 19,
   "metadata": {},
   "outputs": [
    {
     "data": {
      "text/plain": [
       "(0.00608, 0.006011041741912182, 0.017583289264939187)"
      ]
     },
     "execution_count": 19,
     "metadata": {},
     "output_type": "execute_result"
    }
   ],
   "source": [
    "pins_neg_ratio = len(pins_neg)/len(pinterest_sentiment_analysis)\n",
    "insta_neg_ratio = len(insta_neg)/len(instagram_sentiment_analysis)\n",
    "snap_neg_ratio = len(snap_neg)/len(snapchat_sentiment_analysis)\n",
    "\n",
    "pins_neg_ratio, insta_neg_ratio, snap_neg_ratio"
   ]
  },
  {
   "cell_type": "markdown",
   "metadata": {},
   "source": [
    "** All the remaining tweets are neutral, including tweets with neutral value greater than 0.5, and tweets that have even value among positive/negative/neutral"
   ]
  },
  {
   "cell_type": "code",
   "execution_count": 28,
   "metadata": {},
   "outputs": [],
   "source": [
    "pins_neu_ratio = 1- pins_pos_ratio - pins_neg_ratio\n",
    "insta_neu_ratio = 1- insta_pos_ratio - insta_neg_ratio\n",
    "snap_neu_ratio = 1- snap_pos_ratio - snap_neg_ratio"
   ]
  },
  {
   "cell_type": "code",
   "execution_count": 29,
   "metadata": {},
   "outputs": [
    {
     "data": {
      "text/plain": [
       "(0.96096, 0.9597286001754296, 0.9584875727128503)"
      ]
     },
     "execution_count": 29,
     "metadata": {},
     "output_type": "execute_result"
    }
   ],
   "source": [
    "pins_neu_ratio, insta_neu_ratio, snap_neu_ratio"
   ]
  },
  {
   "cell_type": "markdown",
   "metadata": {},
   "source": [
    "** Metric to measure the positivity: \n",
    "\n",
    "Relative Positive Ratio = # of positive tweets / (# of positive tweets + # of negative tweets)"
   ]
  },
  {
   "cell_type": "code",
   "execution_count": 54,
   "metadata": {},
   "outputs": [
    {
     "data": {
      "text/plain": [
       "(0.8442622950819673, 0.8507367072389493, 0.5764331210191083)"
      ]
     },
     "execution_count": 54,
     "metadata": {},
     "output_type": "execute_result"
    }
   ],
   "source": [
    "pins_relative = len(pins_pos)/(len(pins_pos) + len(pins_neg))\n",
    "insta_relative = len(insta_pos)/(len(insta_pos) + len(insta_neg))\n",
    "snap_relative = len(snap_pos)/(len(snap_pos) + len(snap_neg))\n",
    "pins_relative, insta_relative,  snap_relative"
   ]
  },
  {
   "cell_type": "code",
   "execution_count": 51,
   "metadata": {},
   "outputs": [],
   "source": [
    "def bootstrap(sample_df):\n",
    "    sample_list = sample_df.values.tolist()\n",
    "    sample_size = len(sample_df)\n",
    "    get_sample = []\n",
    "    \n",
    "    random_select = np.random.randint(0, (sample_size -1), sample_size)\n",
    "    for j in random_select:\n",
    "        get_sample.append(sample_list[j])\n",
    "    \n",
    "    return get_sample\n",
    "        "
   ]
  },
  {
   "cell_type": "code",
   "execution_count": 57,
   "metadata": {},
   "outputs": [],
   "source": [
    "def relatively_positive_ratio(sample_list):\n",
    "    positive_count = 0\n",
    "    negative_count = 0\n",
    "    for i in sample_list:\n",
    "        if i[2] > 0.5:\n",
    "            negative_count += 1\n",
    "        elif i[4] > 0.5:\n",
    "            positive_count += 1\n",
    "    if positive_count + negative_count == 0:\n",
    "        return 0\n",
    "    else:\n",
    "        return positive_count/(positive_count + negative_count)"
   ]
  },
  {
   "cell_type": "code",
   "execution_count": 62,
   "metadata": {},
   "outputs": [],
   "source": [
    "pins_rpr_list = []\n",
    "for i in range(1000):\n",
    "    sample = bootstrap(pinterest_sentiment_analysis)\n",
    "    pins_rpr_list.append(relatively_positive_ratio(sample))\n",
    "    "
   ]
  },
  {
   "cell_type": "code",
   "execution_count": 68,
   "metadata": {},
   "outputs": [],
   "source": [
    "insta_rpr_list = []\n",
    "for i in range(1000):\n",
    "    sample = bootstrap(instagram_sentiment_analysis)\n",
    "    insta_rpr_list.append(relatively_positive_ratio(sample))"
   ]
  },
  {
   "cell_type": "code",
   "execution_count": 66,
   "metadata": {},
   "outputs": [],
   "source": [
    "snap_rpr_list = []\n",
    "for i in range(1000):\n",
    "    sample = bootstrap(snapchat_sentiment_analysis)\n",
    "    snap_rpr_list.append(relatively_positive_ratio(sample))"
   ]
  },
  {
   "cell_type": "code",
   "execution_count": 69,
   "metadata": {},
   "outputs": [
    {
     "data": {
      "image/png": "[encoded data removed]",
      "text/plain": [
       "<Figure size 432x288 with 1 Axes>"
      ]
     },
     "metadata": {
      "needs_background": "light"
     },
     "output_type": "display_data"
    }
   ],
   "source": [
    "plt.plot([i for i in range(1000)], pins_rpr_list)\n",
    "plt.plot([i for i in range(1000)], insta_rpr_list)\n",
    "plt.plot([i for i in range(1000)], snap_rpr_list);"
   ]
  },
  {
   "cell_type": "code",
   "execution_count": 75,
   "metadata": {},
   "outputs": [
    {
     "data": {
      "image/png": "[encoded data removed]",
      "text/plain": [
       "<Figure size 432x288 with 1 Axes>"
      ]
     },
     "metadata": {
      "needs_background": "light"
     },
     "output_type": "display_data"
    }
   ],
   "source": [
    "plt.hist(pins_rpr_list, color = 'red', label = 'Pinterest')\n",
    "plt.hist(insta_rpr_list, color = 'purple', label = 'Instagram')\n",
    "plt.hist(snap_rpr_list, color = 'yellow', label = 'Snapchat')\n",
    "plt.legend()\n",
    "plt.xlabel('Relatively Positive Ratio')\n",
    "plt.ylabel('Frequency')\n",
    "plt.title('Relatively Positive Ratio Distribution')\n",
    "plt.savefig('Relatively Positive Ratio Distribution.jpg');"
   ]
  },
  {
   "cell_type": "code",
   "execution_count": 81,
   "metadata": {},
   "outputs": [
    {
     "name": "stdout",
     "output_type": "stream",
     "text": [
      "p-value for insta_rpr > pins_rpr : 0.0000884395\n",
      "p-value for pins_rpr > snap_rpr: 0.0000000000\n",
      "p-value for insta_rpr > snap_rpr: 0.0000000000\n"
     ]
    }
   ],
   "source": [
    "\"\"\"\n",
    "\n",
    "Pints_RPR: The mean of tweets RPR for pinterest \n",
    "Insta_RPR: The mean of tweets RPR for instagram\n",
    "Snap_RPR: The mean of tweets RPR for snapchat\n",
    "\n",
    "Null_1 Hypothesis: Pints_RPR = Insta_RPR\n",
    "Alternate_1 Hypothesis: Pints_RPR < Insta_RPR\n",
    "\n",
    "Null_2 Hypothesis: Pints_RPR = Snap_RPR\n",
    "Alternate_2 Hypothesis: Pints_RPR > Snap_RPR\n",
    "\n",
    "Null_3 Hypothesis: Insta_RPR = Snap_RPR\n",
    "Alternate_3 Hypothesis: Insta_RPR > Snap_RPR\n",
    "\n",
    "Alpha = 0.05/3\n",
    "\n",
    "\"\"\"\n",
    "\n",
    "insta_greater_pins = stats.mannwhitneyu(insta_rpr_list, pins_rpr_list, alternative=\"greater\")\n",
    "print(\"p-value for insta_rpr > pins_rpr : {:2.10f}\".format(insta_greater_pins.pvalue))\n",
    "\n",
    "pins_greater_snap = stats.mannwhitneyu(pins_rpr_list, snap_rpr_list, alternative=\"greater\")\n",
    "print(\"p-value for pins_rpr > snap_rpr: {:2.10f}\".format(pins_greater_snap.pvalue))\n",
    "\n",
    "insta_greater_snap = stats.mannwhitneyu(insta_rpr_list, snap_rpr_list, alternative=\"greater\")\n",
    "print(\"p-value for insta_rpr > snap_rpr: {:2.10f}\".format(insta_greater_snap.pvalue))"
   ]
  },
  {
   "cell_type": "code",
   "execution_count": 52,
   "metadata": {},
   "outputs": [
    {
     "data": {
      "text/plain": [
       "[[6,\n",
       "  'Sell your products direct from #Pinterest with buyable pins - #growthhacking #etsy',\n",
       "  0.0,\n",
       "  1.0,\n",
       "  0.0,\n",
       "  0.0],\n",
       " [4,\n",
       "  'This easy roll recipe needs just a few ingredients. A perfect side dish to any dinner, try these hom',\n",
       "  0.0,\n",
       "  0.6940000000000001,\n",
       "  0.306,\n",
       "  0.765],\n",
       " [0,\n",
       "  'Check our our #Pinterest board for loads of great #metacognition #teaching resources &amp; ideas! --&gt;',\n",
       "  0.0,\n",
       "  0.7609999999999999,\n",
       "  0.239,\n",
       "  0.6588],\n",
       " [8,\n",
       "  \"We've been updating our rattan-inspired Pinterest board this afternoon: #enkimaguk\",\n",
       "  0.0,\n",
       "  1.0,\n",
       "  0.0,\n",
       "  0.0],\n",
       " [6,\n",
       "  'Sell your products direct from #Pinterest with buyable pins - #growthhacking #etsy',\n",
       "  0.0,\n",
       "  1.0,\n",
       "  0.0,\n",
       "  0.0],\n",
       " [6,\n",
       "  'Sell your products direct from #Pinterest with buyable pins - #growthhacking #etsy',\n",
       "  0.0,\n",
       "  1.0,\n",
       "  0.0,\n",
       "  0.0],\n",
       " [3,\n",
       "  'Add Pepha Tight (seaweed or algae) to any product you have to firm up fast! #pephatight #miracletigh',\n",
       "  0.0,\n",
       "  1.0,\n",
       "  0.0,\n",
       "  0.0],\n",
       " [3,\n",
       "  'Add Pepha Tight (seaweed or algae) to any product you have to firm up fast! #pephatight #miracletigh',\n",
       "  0.0,\n",
       "  1.0,\n",
       "  0.0,\n",
       "  0.0],\n",
       " [7, 'My pinterest boards are my aesthetic', 0.0, 1.0, 0.0, 0.0],\n",
       " [3,\n",
       "  'Add Pepha Tight (seaweed or algae) to any product you have to firm up fast! #pephatight #miracletigh',\n",
       "  0.0,\n",
       "  1.0,\n",
       "  0.0,\n",
       "  0.0]]"
      ]
     },
     "execution_count": 52,
     "metadata": {},
     "output_type": "execute_result"
    }
   ],
   "source": [
    "test = pinterest_sentiment_analysis[:10]\n",
    "\n",
    "bootstrap(test)\n"
   ]
  },
  {
   "cell_type": "code",
   "execution_count": 58,
   "metadata": {},
   "outputs": [
    {
     "data": {
      "text/plain": [
       "0"
      ]
     },
     "execution_count": 58,
     "metadata": {},
     "output_type": "execute_result"
    }
   ],
   "source": [
    "relatively_positive_ratio(bootstrap(test))"
   ]
  },
  {
   "cell_type": "code",
   "execution_count": null,
   "metadata": {},
   "outputs": [],
   "source": []
  }
 ],
 "metadata": {
  "kernelspec": {
   "display_name": "Python 3",
   "language": "python",
   "name": "python3"
  },
  "language_info": {
   "codemirror_mode": {
    "name": "ipython",
    "version": 3
   },
   "file_extension": ".py",
   "mimetype": "text/x-python",
   "name": "python",
   "nbconvert_exporter": "python",
   "pygments_lexer": "ipython3",
   "version": "3.7.3"
  }
 },
 "nbformat": 4,
 "nbformat_minor": 2
}
